{
 "cells": [
  {
   "cell_type": "code",
   "execution_count": 3,
   "id": "5a622d38",
   "metadata": {},
   "outputs": [
    {
     "name": "stdout",
     "output_type": "stream",
     "text": [
      "p.MAX_SPEED =  15\n",
      "r.MAX_SPEED =  5\n",
      "p.MAX_POSITION =  10\n",
      "r.MAX_POSITION =  10\n"
     ]
    }
   ],
   "source": [
    "class Player:\n",
    "    MAX_POSITION = 10     # Class attribute   \n",
    "    MAX_SPEED = 15\n",
    "    def __init__(self):\n",
    "      self.position = 0\n",
    "class Racer(Player):\n",
    "    MAX_SPEED = 5      # adding attributes to Child Class\n",
    "p = Player()\n",
    "r = Racer()\n",
    "\n",
    "print(\"p.MAX_SPEED = \", p.MAX_SPEED)  \n",
    "print(\"r.MAX_SPEED = \", r.MAX_SPEED)\n",
    "print(\"p.MAX_POSITION = \", p.MAX_POSITION)\n",
    "print(\"r.MAX_POSITION = \", r.MAX_POSITION)"
   ]
  },
  {
   "cell_type": "code",
   "execution_count": 6,
   "id": "a493aad4",
   "metadata": {},
   "outputs": [
    {
     "name": "stdout",
     "output_type": "stream",
     "text": [
      "22\n",
      "8\n",
      "2003\n"
     ]
    }
   ],
   "source": [
    "class MyDate:\n",
    "    def __init__(self, year, month, day):     # Constructor\n",
    "      self.year = year  \n",
    "      self.month = month\n",
    "      self.day = day\n",
    "    # Define a class method from_str\n",
    "    @classmethod\n",
    "    def from_str(cls, datestr):\n",
    "    # Split the string at \".\" and  convert each part to integer\n",
    "        parts = datestr.split(\".\")\n",
    "        day, month, year = int(parts[0]), int(parts[1]), int(parts[2])\n",
    "        return cls(year, month, day)       # Return the class instance  \n",
    "bd = MyDate.from_str('22.08.2003')  \n",
    "print(bd.day) \n",
    "print(bd.month)\n",
    "print(bd.year)"
   ]
  },
  {
   "cell_type": "code",
   "execution_count": 8,
   "id": "183ac9cc",
   "metadata": {},
   "outputs": [
    {
     "name": "stdout",
     "output_type": "stream",
     "text": [
      "Virat is earning 25000\n",
      "Rohit\n",
      "30000\n"
     ]
    }
   ],
   "source": [
    "class Employee: \n",
    "    def __init__(self, fullname, income = 25000):\n",
    "        self.fullname = fullname\n",
    "        self.income = income\n",
    "    def func_information(self):\n",
    "        print(self.fullname, 'is earning', self.income)\n",
    "\n",
    "class Department(Employee):\n",
    "     \n",
    "    def __init__(self, fullname, income = 30000):\n",
    "         Employee.__init__(self, fullname, income)\n",
    "\n",
    "emp = Employee('Virat')\n",
    "emp.func_information()\n",
    "dept = Department('Rohit')\n",
    "print(dept.fullname)\n",
    "print(dept.income)"
   ]
  },
  {
   "cell_type": "code",
   "execution_count": 11,
   "id": "f02e130e",
   "metadata": {},
   "outputs": [
    {
     "name": "stdout",
     "output_type": "stream",
     "text": [
      "init called\n",
      "Virat\n",
      "31\n",
      "init called\n",
      "Anushka\n",
      "33\n",
      "Count - 2\n"
     ]
    }
   ],
   "source": [
    "class Person:\n",
    "    '''Class Person displaying person information'''      #class variable\n",
    "    total = 0    \n",
    "    def __init__(self, name, age):\n",
    "        print('init called')\n",
    "        self.name = name\n",
    "        self.age = age\n",
    "        Person.total +=1\n",
    "\n",
    "    def display(self):\n",
    "        print(self.name)\n",
    "        print(self.age)\n",
    "\n",
    "# creating class instances\n",
    "person1 = Person('Virat', 31)\n",
    "person1.display()\n",
    "person2 = Person('Anushka', 33)\n",
    "person2.display()\n",
    "print('Count -', Person.total)"
   ]
  },
  {
   "cell_type": "code",
   "execution_count": 12,
   "id": "d425b2c4",
   "metadata": {},
   "outputs": [
    {
     "name": "stdout",
     "output_type": "stream",
     "text": [
      "60\n",
      "675\n",
      "3.0\n"
     ]
    }
   ],
   "source": [
    "class Calculation1:  \n",
    "    def Summation(self,a,b):  \n",
    "        return a+b;  \n",
    "class Calculation2:  \n",
    "    def Multiplication(self,a,b):  \n",
    "        return a*b;  \n",
    "class Derived(Calculation1,Calculation2):  \n",
    "    def Divide(self,a,b):  \n",
    "        return a/b;  \n",
    "dev = Derived()  \n",
    "print(dev.Summation(45,15))  \n",
    "print(dev.Multiplication(45,15))  \n",
    "print(dev.Divide(45,15))"
   ]
  },
  {
   "cell_type": "code",
   "execution_count": 19,
   "id": "4b4c3061",
   "metadata": {},
   "outputs": [
    {
     "name": "stdout",
     "output_type": "stream",
     "text": [
      "Credit card payment of-  100\n",
      "Purchase of amount-  100\n",
      "True\n",
      "Mobile wallet payment of-  200\n",
      "Purchase of amount-  200\n",
      "True\n"
     ]
    }
   ],
   "source": [
    "from abc import ABC, abstractmethod\n",
    "class Payment(ABC):\n",
    "    def print_slip(self, amount):\n",
    "        print('Purchase of amount- ', amount)\n",
    "    @abstractmethod\n",
    "    def payment(self, amount):\n",
    "        pass\n",
    "\n",
    "class CreditCardPayment(Payment):\n",
    "    def payment(self, amount):\n",
    "        print('Credit card payment of- ', amount)\n",
    "\n",
    "class MobileWalletPayment(Payment):\n",
    "    def payment(self, amount):\n",
    "        print('Mobile wallet payment of- ', amount)\n",
    "\n",
    "obj = CreditCardPayment()\n",
    "obj.payment(100)\n",
    "obj.print_slip(100)\n",
    "print(isinstance(obj, Payment))\n",
    "obj = MobileWalletPayment()\n",
    "obj.payment(200)\n",
    "obj.print_slip(200)\n",
    "print(isinstance(obj, Payment))"
   ]
  },
  {
   "cell_type": "code",
   "execution_count": 13,
   "id": "04255add",
   "metadata": {},
   "outputs": [
    {
     "name": "stdout",
     "output_type": "stream",
     "text": [
      "In parent class displayData method\n",
      "Virat\n",
      "31\n",
      "In child class displayData method\n",
      "Virat\n",
      "31\n",
      "198918\n"
     ]
    }
   ],
   "source": [
    "class Person:\n",
    "    def __init__(self, name, age):\n",
    "        self.name = name\n",
    "        self.age = age\n",
    "\n",
    "    def displayData(self):\n",
    "        print('In parent class displayData method')\n",
    "        print(self.name)\n",
    "        print(self.age)\n",
    "\n",
    "class Employee(Person):\n",
    "    def __init__(self, name, age, id):     # calling constructor of super class\n",
    "        super().__init__(name, age)\n",
    "        self.empId = id\n",
    "\n",
    "    def displayData(self):\n",
    "        print('In child class displayData method')\n",
    "        print(self.name)\n",
    "        print(self.age)\n",
    "        print(self.empId)\n",
    "\n",
    "#Person class object\n",
    "person = Person('Virat', 31)\n",
    "person.displayData()\n",
    "#Employee class object\n",
    "emp = Employee('Virat', 31, '198918')\n",
    "emp.displayData()"
   ]
  },
  {
   "cell_type": "code",
   "execution_count": 14,
   "id": "14207102",
   "metadata": {},
   "outputs": [
    {
     "name": "stdout",
     "output_type": "stream",
     "text": [
      "OOP Course : Mandatory for Third Semester  \n"
     ]
    }
   ],
   "source": [
    "class OOP_class :    \n",
    "    def __init__(self, name):\n",
    "        self.name = name \n",
    "    def result(self):\n",
    "        print(self.name,'Mandatory for Third Semester  ')\n",
    "OOP_ob = OOP_class('OOP Course :')\n",
    "OOP_ob.result()"
   ]
  },
  {
   "cell_type": "code",
   "execution_count": 15,
   "id": "cc9f9861",
   "metadata": {},
   "outputs": [
    {
     "name": "stdout",
     "output_type": "stream",
     "text": [
      "The Bear is angry: Roar!!!\n"
     ]
    }
   ],
   "source": [
    "class Bear: \n",
    "    def __init__(self):\n",
    "        self.animal_group = 'Mammal'\n",
    "        self.sound = 'Roar!!!'    \n",
    "    def getGroup(self):\n",
    "        return self.animal_group\n",
    "    def getSound(self):\n",
    "        return self.sound\n",
    "      \n",
    "bear_obj = Bear()\n",
    "print(\"The Bear is angry:\", bear_obj.sound)"
   ]
  },
  {
   "cell_type": "code",
   "execution_count": 16,
   "id": "dc3da81a",
   "metadata": {},
   "outputs": [
    {
     "name": "stdout",
     "output_type": "stream",
     "text": [
      "Roar!!!\n"
     ]
    }
   ],
   "source": [
    "class Lion:\n",
    "    def __init__(self):\n",
    "        self.animal_group = 'Mammal'\n",
    "        self.sound = 'Roar!!!'     \n",
    "    def MakeSound(self):\n",
    "        print(self.sound)    \n",
    "lion_object =  Lion()\n",
    "lion_object = lion_object.MakeSound()"
   ]
  }
 ],
 "metadata": {
  "kernelspec": {
   "display_name": "Python 3",
   "language": "python",
   "name": "python3"
  },
  "language_info": {
   "codemirror_mode": {
    "name": "ipython",
    "version": 3
   },
   "file_extension": ".py",
   "mimetype": "text/x-python",
   "name": "python",
   "nbconvert_exporter": "python",
   "pygments_lexer": "ipython3",
   "version": "3.8.8"
  }
 },
 "nbformat": 4,
 "nbformat_minor": 5
}
