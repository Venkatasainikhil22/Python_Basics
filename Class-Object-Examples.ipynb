{
 "cells": [
  {
   "cell_type": "code",
   "execution_count": 1,
   "metadata": {},
   "outputs": [
    {
     "name": "stdout",
     "output_type": "stream",
     "text": [
      "white,blue\n",
      "c-type\n",
      "latency\n",
      "touch\n"
     ]
    }
   ],
   "source": [
    "class Earpods:\n",
    "    def __init__( self):\n",
    "# def __init__( self, colour, charging_type, latency, type):\n",
    "        self.colour = \"white\"\n",
    "        self.charging_type = \"c-type\"\n",
    "        self.latency = \"latency\"\n",
    "        self.type = \"touch\"\n",
    "        \n",
    "buds=Earpods()\n",
    "print(buds.colour)\n",
    "print(buds.charging_type)\n",
    "print(buds.latency)\n",
    "print(buds.type)"
   ]
  },
  {
   "cell_type": "code",
   "execution_count": null,
   "metadata": {},
   "outputs": [],
   "source": []
  }
 ],
 "metadata": {
  "kernelspec": {
   "display_name": "Python 3",
   "language": "python",
   "name": "python3"
  },
  "language_info": {
   "codemirror_mode": {
    "name": "ipython",
    "version": 3
   },
   "file_extension": ".py",
   "mimetype": "text/x-python",
   "name": "python",
   "nbconvert_exporter": "python",
   "pygments_lexer": "ipython3",
   "version": "3.8.8"
  }
 },
 "nbformat": 4,
 "nbformat_minor": 4
}
