{
 "cells": [
  {
   "cell_type": "code",
   "execution_count": 1,
   "id": "e86b7921",
   "metadata": {},
   "outputs": [
    {
     "name": "stdout",
     "output_type": "stream",
     "text": [
      "Your rank is 11\n",
      "Your rank is 1\n",
      "Your rank is 6\n"
     ]
    }
   ],
   "source": [
    "#initialisation method  \n",
    "class Score:  \n",
    "  \n",
    "    def __init__(self,rank):  \n",
    "        self.rank = rank \n",
    "   \n",
    "    def say_rank(self):  \n",
    "        print('Your rank is', self.rank)  \n",
    "  \n",
    "    \n",
    "student_1 = Score(11) \n",
    "student_2 = Score(1)\n",
    "student_3 = Score(6)\n",
    "  \n",
    "student_1.say_rank()  \n",
    "student_2.say_rank()\n",
    "student_3.say_rank()"
   ]
  },
  {
   "cell_type": "code",
   "execution_count": 2,
   "id": "860ae5ae",
   "metadata": {},
   "outputs": [
    {
     "name": "stdout",
     "output_type": "stream",
     "text": [
      "Your score:  87\n",
      "Your score:  87\n"
     ]
    }
   ],
   "source": [
    "#private variable          \n",
    "\n",
    "class Score:\n",
    "    #__score is a private variable    \n",
    "    def __init__(self):\n",
    "        self.__score = 87   \n",
    "    def get_score(self):\n",
    "        print('Your score: ',(self.__score))\n",
    "    \n",
    "\n",
    "My_Score = Score()\n",
    "My_Score.get_score()\n",
    "My_Score.__score = 1        # will not change variable because its private\n",
    "My_Score.get_score()"
   ]
  },
  {
   "cell_type": "code",
   "execution_count": 4,
   "id": "e99791b2",
   "metadata": {},
   "outputs": [
    {
     "name": "stdout",
     "output_type": "stream",
     "text": [
      "Calling private member of class: \n",
      "this is private number\n",
      "Private\n"
     ]
    },
    {
     "ename": "NameError",
     "evalue": "name 'Derivd' is not defined",
     "output_type": "error",
     "traceback": [
      "\u001b[1;31m---------------------------------------------------------------------------\u001b[0m",
      "\u001b[1;31mNameError\u001b[0m                                 Traceback (most recent call last)",
      "\u001b[1;32m<ipython-input-4-fff4f38f7ad2>\u001b[0m in \u001b[0;36m<module>\u001b[1;34m\u001b[0m\n\u001b[0;32m     14\u001b[0m \u001b[0mobj1\u001b[0m \u001b[1;33m=\u001b[0m \u001b[0mPrivate\u001b[0m\u001b[1;33m(\u001b[0m\u001b[1;33m)\u001b[0m\u001b[1;33m\u001b[0m\u001b[1;33m\u001b[0m\u001b[0m\n\u001b[0;32m     15\u001b[0m \u001b[0mprint\u001b[0m\u001b[1;33m(\u001b[0m\u001b[0mobj1\u001b[0m\u001b[1;33m.\u001b[0m\u001b[0mpri\u001b[0m\u001b[1;33m)\u001b[0m\u001b[1;33m\u001b[0m\u001b[1;33m\u001b[0m\u001b[0m\n\u001b[1;32m---> 16\u001b[1;33m \u001b[0mobj2\u001b[0m \u001b[1;33m=\u001b[0m \u001b[0mDerivd\u001b[0m\u001b[1;33m(\u001b[0m\u001b[1;33m)\u001b[0m\u001b[1;33m\u001b[0m\u001b[1;33m\u001b[0m\u001b[0m\n\u001b[0m\u001b[0;32m     17\u001b[0m \u001b[0mprint\u001b[0m\u001b[1;33m(\u001b[0m\u001b[0mobj2\u001b[0m\u001b[1;33m.\u001b[0m\u001b[0mpri\u001b[0m\u001b[1;33m)\u001b[0m\u001b[1;33m\u001b[0m\u001b[1;33m\u001b[0m\u001b[0m\n\u001b[0;32m     18\u001b[0m \u001b[1;31m#print(obj2.__p). as this is private we get error\u001b[0m\u001b[1;33m\u001b[0m\u001b[1;33m\u001b[0m\u001b[1;33m\u001b[0m\u001b[0m\n",
      "\u001b[1;31mNameError\u001b[0m: name 'Derivd' is not defined"
     ]
    }
   ],
   "source": [
    "class Private:\n",
    "    def __init__(self):\n",
    "        self.pri = \"Private\"\n",
    "        self.__p = \"this is private number\"\n",
    "        print(\"Calling private member of class: \")\n",
    "        print(self.__p)\n",
    "\n",
    "class Derived(Private):\n",
    "    def __init__(self):   \n",
    "        # Calling constructor of Private class\n",
    "        Private.__init__(self)\n",
    "\n",
    "\n",
    "obj1 = Private()\n",
    "print(obj1.pri)\n",
    "obj2 = Derivd()\n",
    "print(obj2.pri)\n",
    "#print(obj2.__p). as this is private we get error"
   ]
  },
  {
   "cell_type": "code",
   "execution_count": 5,
   "id": "da8035ff",
   "metadata": {},
   "outputs": [
    {
     "name": "stdout",
     "output_type": "stream",
     "text": [
      "Total Score: 105\n",
      "Total Score: 105\n"
     ]
    }
   ],
   "source": [
    "class Student:\n",
    "  score=0\n",
    "  def __init__(self,num) :\n",
    "    Student.score=Student.score+num\n",
    "\n",
    "s1=Student(20)\n",
    "s2=Student(71)\n",
    "s3=Student(14)\n",
    "\n",
    "print(\"Total Score:\", Student.score)\n",
    "print(\"Total Score:\", s2.score)"
   ]
  },
  {
   "cell_type": "code",
   "execution_count": 6,
   "id": "c8308a1a",
   "metadata": {},
   "outputs": [
    {
     "name": "stdout",
     "output_type": "stream",
     "text": [
      "This is non parametrized constructor with no arguments or parameters\n",
      "This is non parametrized constructor with no arguments or parameters\n",
      "This is non parametrized constructor with no arguments or parameters\n",
      "Your score: 25\n",
      "Your score: 36\n",
      "number of Students in OOP class : 5 6\n"
     ]
    }
   ],
   "source": [
    "class Student:\n",
    "    def __init__(self) :\n",
    "        print(\"This is non parametrized constructor with no arguments or parameters\") \n",
    "\n",
    "    def showscore(self,score):\n",
    "        print(\"Your score:\", score * score)\n",
    "        return score\n",
    "s1=Student()\n",
    "s2=Student()\n",
    "s3=Student()\n",
    "\n",
    "result1= s1.showscore(5)\n",
    "result2= s2.showscore(6)\n",
    "\n",
    "print(\"number of Students in OOP class :\", result1,result2)"
   ]
  },
  {
   "cell_type": "code",
   "execution_count": 16,
   "id": "635a6f71",
   "metadata": {},
   "outputs": [
    {
     "name": "stdout",
     "output_type": "stream",
     "text": [
      "This is parametrized constructor with no arguments or parameters\n",
      "This is parametrized constructor with no arguments or parameters\n",
      "This is parametrized constructor with no arguments or parameters\n",
      "Student joined IIIT Dharwad   : Ram 21 2021\n",
      "Student joined IIIT Dharwad   : Krishna 23 2019\n",
      "Student has completed the course\n"
     ]
    }
   ],
   "source": [
    "class Student:\n",
    "    count=0\n",
    "    def __init__(self,name_,age_) :\n",
    "        self.name = name_\n",
    "        self.age = age_\n",
    "        print(\"This is parametrized constructor with no arguments or parameters\") \n",
    "\n",
    "    def display(self,styear):\n",
    "        print(\"Student joined IIIT Dharwad   :\", self.name, self.age, styear)\n",
    "        if styear <= 2020 :\n",
    "            print (\"Student has completed the course\")\n",
    "            return \n",
    "s1=Student(\"Ram\",21)\n",
    "s2=Student(\"Krishna\",23)\n",
    "s3=Student(\"Kumar\",22)\n",
    "\n",
    "s1.display(2021)\n",
    "s2.display(2019)"
   ]
  },
  {
   "cell_type": "code",
   "execution_count": 17,
   "id": "1d757ef3",
   "metadata": {},
   "outputs": [
    {
     "name": "stdout",
     "output_type": "stream",
     "text": [
      "Successfully added to the family\n",
      "Ram\n",
      "1\n",
      "\n",
      "\n",
      "Lakshman\n",
      "2\n",
      "\n",
      "\n",
      "Siva\n",
      "3\n",
      "\n",
      "\n"
     ]
    }
   ],
   "source": [
    "class Family:\n",
    "    members = 0\n",
    "    def __init__(self,name):\n",
    "        self.name = name\n",
    "        self.__lastname = 'Gumen'\n",
    "    def get_name(self):\n",
    "        return self.name\n",
    "    def add_to_family(self):\n",
    "        Family.members = Family.members + 1\n",
    "    print(\"Successfully added to the family\")\n",
    "    def get_count(self):\n",
    "        return Family.members\n",
    "    def get_lastName(self):\n",
    "        print(self.__lastname) #cant be accessed\n",
    "\n",
    "person = Family(\"Ram\")\n",
    "print(person.get_name())\n",
    "person.add_to_family()\n",
    "print(person.get_count())\n",
    "\n",
    "print('\\n')\n",
    "person_2 = Family(\"Lakshman\")\n",
    "print(person_2.get_name())\n",
    "person_2.add_to_family()\n",
    "print(person_2.get_count())\n",
    "\n",
    "print('\\n')\n",
    "person_3 = Family(\"Siva\")\n",
    "print(person_3.get_name())\n",
    "person_3.add_to_family()\n",
    "print(person_3.get_count())\n",
    "\n",
    "print('\\n')\n",
    "person.__last_name = 'Aranya'\n",
    "#person.get_lastName can't be accessed"
   ]
  },
  {
   "cell_type": "code",
   "execution_count": null,
   "id": "5e7c1758",
   "metadata": {},
   "outputs": [],
   "source": []
  }
 ],
 "metadata": {
  "kernelspec": {
   "display_name": "Python 3",
   "language": "python",
   "name": "python3"
  },
  "language_info": {
   "codemirror_mode": {
    "name": "ipython",
    "version": 3
   },
   "file_extension": ".py",
   "mimetype": "text/x-python",
   "name": "python",
   "nbconvert_exporter": "python",
   "pygments_lexer": "ipython3",
   "version": "3.8.8"
  }
 },
 "nbformat": 4,
 "nbformat_minor": 5
}
