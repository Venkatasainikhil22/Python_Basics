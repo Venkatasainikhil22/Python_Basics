{
 "cells": [
  {
   "cell_type": "code",
   "execution_count": 18,
   "id": "37398925",
   "metadata": {},
   "outputs": [],
   "source": [
    "var1 = 10     # is a  assignment statement"
   ]
  },
  {
   "cell_type": "code",
   "execution_count": 19,
   "id": "16494499",
   "metadata": {},
   "outputs": [
    {
     "data": {
      "text/plain": [
       "10"
      ]
     },
     "execution_count": 19,
     "metadata": {},
     "output_type": "execute_result"
    }
   ],
   "source": [
    "var1"
   ]
  },
  {
   "cell_type": "code",
   "execution_count": 3,
   "id": "fef9df33",
   "metadata": {},
   "outputs": [],
   "source": [
    "sum = 100 + 25 + 30 + \\\n",
    "    49 + 58 + 62 + \\\n",
    "    70 + 82 + 94\n"
   ]
  },
  {
   "cell_type": "code",
   "execution_count": 4,
   "id": "8c5c39b1",
   "metadata": {},
   "outputs": [
    {
     "data": {
      "text/plain": [
       "570"
      ]
     },
     "execution_count": 4,
     "metadata": {},
     "output_type": "execute_result"
    }
   ],
   "source": [
    "sum"
   ]
  },
  {
   "cell_type": "code",
   "execution_count": 6,
   "id": "452a9baf",
   "metadata": {},
   "outputs": [],
   "source": [
    "temp = (10 + 32 + 53 +\n",
    "    40 + 52 + 46 +\n",
    "    27 + 68 + 59)\n",
    "\n",
    "\n",
    "car_Colours = ['red',\n",
    "                'blue',\n",
    "                'green']\n",
    "\n",
    "\n",
    "a = 1; b = 2; c = 3"
   ]
  },
  {
   "cell_type": "code",
   "execution_count": 7,
   "id": "a97957c8",
   "metadata": {},
   "outputs": [
    {
     "data": {
      "text/plain": [
       "387"
      ]
     },
     "execution_count": 7,
     "metadata": {},
     "output_type": "execute_result"
    }
   ],
   "source": [
    "temp"
   ]
  },
  {
   "cell_type": "code",
   "execution_count": 9,
   "id": "4b249d3e",
   "metadata": {},
   "outputs": [
    {
     "data": {
      "text/plain": [
       "1"
      ]
     },
     "execution_count": 9,
     "metadata": {},
     "output_type": "execute_result"
    }
   ],
   "source": [
    "a"
   ]
  },
  {
   "cell_type": "code",
   "execution_count": 12,
   "id": "dda8e96a",
   "metadata": {},
   "outputs": [
    {
     "name": "stdout",
     "output_type": "stream",
     "text": [
      "1\n",
      "2\n",
      "3\n",
      "4\n",
      "5\n",
      "6\n",
      "7\n",
      "8\n",
      "9\n",
      "Hello\n",
      "Hello\n"
     ]
    }
   ],
   "source": [
    "for k in range(1,15) :\n",
    "    print(k)\n",
    "    if k == 9:\n",
    "        break\n",
    "\n",
    "if True:\n",
    "    print('Hello')\n",
    "    a = 12\n",
    "\n",
    "if True: print('Hello'); a = 5"
   ]
  },
  {
   "cell_type": "code",
   "execution_count": 13,
   "id": "5a404537",
   "metadata": {},
   "outputs": [
    {
     "name": "stdout",
     "output_type": "stream",
     "text": [
      "Welcome to OOP Course\n"
     ]
    },
    {
     "data": {
      "text/plain": [
       "'This is also a\\nan example of\\nmulti-line comments'"
      ]
     },
     "execution_count": 13,
     "metadata": {},
     "output_type": "execute_result"
    }
   ],
   "source": [
    "#   This is a comment\n",
    "#   print name of the course\n",
    "\n",
    "print('Welcome to OOP Course')\n",
    "\n",
    "\n",
    "\"\"\"This is also a\n",
    "an example of\n",
    "multi-line comments\"\"\""
   ]
  },
  {
   "cell_type": "code",
   "execution_count": 16,
   "id": "1b62fd54",
   "metadata": {},
   "outputs": [
    {
     "name": "stdout",
     "output_type": "stream",
     "text": [
      "Function to the values\n"
     ]
    }
   ],
   "source": [
    "def sum(num):\n",
    "    \"\"\"Function to the values\"\"\"\n",
    "    return 2+num\n",
    "\n",
    "print(sum.__doc__)"
   ]
  },
  {
   "cell_type": "code",
   "execution_count": null,
   "id": "21d00c40",
   "metadata": {},
   "outputs": [],
   "source": []
  }
 ],
 "metadata": {
  "kernelspec": {
   "display_name": "Python 3",
   "language": "python",
   "name": "python3"
  },
  "language_info": {
   "codemirror_mode": {
    "name": "ipython",
    "version": 3
   },
   "file_extension": ".py",
   "mimetype": "text/x-python",
   "name": "python",
   "nbconvert_exporter": "python",
   "pygments_lexer": "ipython3",
   "version": "3.8.8"
  }
 },
 "nbformat": 4,
 "nbformat_minor": 5
}
