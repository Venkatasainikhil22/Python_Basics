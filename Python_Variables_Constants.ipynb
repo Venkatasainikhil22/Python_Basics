{
 "cells": [
  {
   "cell_type": "code",
   "execution_count": 1,
   "id": "f4d1ad53",
   "metadata": {},
   "outputs": [
    {
     "name": "stdout",
     "output_type": "stream",
     "text": [
      "40.5  Test True\n"
     ]
    }
   ],
   "source": [
    "sum = 40\n",
    "sum = 40.5\n",
    "var1 = \" Test\"\n",
    "var2 = True\n",
    "\n",
    "print(sum,var1,var2)"
   ]
  },
  {
   "cell_type": "code",
   "execution_count": 2,
   "id": "3748fa52",
   "metadata": {},
   "outputs": [
    {
     "name": "stdout",
     "output_type": "stream",
     "text": [
      "https://www.hobbybytes.in\n",
      "https://www.hobbybytes.com\n"
     ]
    }
   ],
   "source": [
    "mySite = \"https://www.hobbybytes.in\"\n",
    "print(mySite)\n",
    "\n",
    "# assigning a new value \n",
    "mySite = \"https://www.hobbybytes.com\"\n",
    "\n",
    "print(mySite)"
   ]
  },
  {
   "cell_type": "code",
   "execution_count": 5,
   "id": "11596ecb",
   "metadata": {},
   "outputs": [
    {
     "name": "stdout",
     "output_type": "stream",
     "text": [
      "https://www.hobbybytes.in https://www.hobbybytes.com\n",
      "https://www.hobbybytes.in https://www.google.com\n"
     ]
    }
   ],
   "source": [
    "mySite,myBlog = \"https://www.hobbybytes.in\",\"https://www.hobbybytes.com\"\n",
    "\n",
    "print(mySite,myBlog)\n",
    "\n",
    "\n",
    "mySite,myBlog = \"https://www.hobbybytes.in\",\"https://www.google.com\"\n",
    "print(mySite,myBlog)"
   ]
  },
  {
   "cell_type": "code",
   "execution_count": 15,
   "id": "ac33086f",
   "metadata": {},
   "outputs": [
    {
     "name": "stdout",
     "output_type": "stream",
     "text": [
      "125\n",
      " OOP Course\n",
      "4\n"
     ]
    }
   ],
   "source": [
    "import constants\n",
    "\n",
    "print(students)\n",
    "print(courseName)\n",
    "print(credits)"
   ]
  },
  {
   "cell_type": "code",
   "execution_count": 21,
   "id": "8bcfa9d9",
   "metadata": {},
   "outputs": [
    {
     "name": "stdout",
     "output_type": "stream",
     "text": [
      "10\n",
      "300\n",
      "200\n",
      "300\n",
      "10.5\n",
      "150.0\n",
      "5.25j\n"
     ]
    }
   ],
   "source": [
    "k = 0b1010       #Binary Literals\n",
    "l = 300          #Decimal Literal \n",
    "m = 0o310        #Octal Literal\n",
    "d = 0x12c        #Hexadecimal Literal\n",
    "\n",
    "#Float Literal\n",
    "\n",
    "float_1 = 10.5 \n",
    "float_2 = 1.5e2\n",
    "\n",
    "#Complex Literal \n",
    "\n",
    "x = 5.25j\n",
    "print(k)\n",
    "print(l)\n",
    "print(m)\n",
    "print(d)\n",
    "print(float_1)\n",
    "print(float_2)\n",
    "print(x)"
   ]
  },
  {
   "cell_type": "code",
   "execution_count": 29,
   "id": "7df8681d",
   "metadata": {},
   "outputs": [
    {
     "name": "stdout",
     "output_type": "stream",
     "text": [
      "This is OOP using Python course\n",
      "Y\n",
      "This course is offered for second year CS students\n",
      "Ünicöde\n",
      "raw \\n string\n"
     ]
    }
   ],
   "source": [
    "courseName = \"This is OOP using Python course\"\n",
    "core_Course = \"Y\"\n",
    "multiline_comments = \"\"\"This course is offered for second year CS students\"\"\"\n",
    "new_unicode = u\"\\u00dcnic\\u00f6de\"\n",
    "imp_raw_str = r\"raw \\n string\"\n",
    "\n",
    "print(courseName)\n",
    "print(core_Course)\n",
    "print(multiline_comments)\n",
    "print(new_unicode)\n",
    "print(imp_raw_str)"
   ]
  },
  {
   "cell_type": "code",
   "execution_count": 35,
   "id": "75a03b73",
   "metadata": {},
   "outputs": [
    {
     "name": "stdout",
     "output_type": "stream",
     "text": [
      "m is 40\n",
      "y is -3\n",
      "l: 6\n",
      "m: 40\n"
     ]
    }
   ],
   "source": [
    "m = (1 == True)\n",
    "y = (1 == False)\n",
    "l = True + 5\n",
    "y = True -4\n",
    "m = False + 40\n",
    "\n",
    "print(\"m is\", m)\n",
    "print(\"y is\", y)\n",
    "print(\"l:\", l)\n",
    "print(\"m:\", m)"
   ]
  },
  {
   "cell_type": "code",
   "execution_count": 52,
   "id": "9caeaba7",
   "metadata": {},
   "outputs": [
    {
     "name": "stdout",
     "output_type": "stream",
     "text": [
      "Available\n",
      "None\n"
     ]
    }
   ],
   "source": [
    "food = \"Available\"\n",
    "junkfood = None\n",
    "\n",
    "def menu(x):\n",
    "    if x == food:\n",
    "        print(food)\n",
    "    else :\n",
    "        print(junkfood)\n",
    "\n",
    "menu(food)\n",
    "menu(junkfood)"
   ]
  },
  {
   "cell_type": "code",
   "execution_count": 53,
   "id": "3da9d4e9",
   "metadata": {},
   "outputs": [
    {
     "name": "stdout",
     "output_type": "stream",
     "text": [
      "['apple', 'mango', 'orange']\n",
      "(10, 25, 30)\n",
      "{'a': 'apple', 'b': 'ball', 'c': 'cat'}\n",
      "{'e', 'i', 'a', 'u', 'o'}\n"
     ]
    }
   ],
   "source": [
    "fruitsBasket = [\"apple\", \"mango\", \"orange\"]         #    list\n",
    "numbers = (10, 25, 30)                           #     tuple\n",
    "data = {'a':'apple', 'b':'ball', 'c':'cat'}        #      dictionary\n",
    "vowels = {'a', 'e', 'i' , 'o', 'u'}                     #set\n",
    "\n",
    "print(fruitsBasket)\n",
    "print(numbers)\n",
    "print(data)\n",
    "print(vowels)"
   ]
  },
  {
   "cell_type": "code",
   "execution_count": 2,
   "id": "7ac7c56f",
   "metadata": {},
   "outputs": [
    {
     "data": {
      "text/plain": [
       "'Python variable practice'"
      ]
     },
     "execution_count": 2,
     "metadata": {},
     "output_type": "execute_result"
    }
   ],
   "source": [
    "\"\"\"Python variable practice\"\"\""
   ]
  }
 ],
 "metadata": {
  "kernelspec": {
   "display_name": "Python 3",
   "language": "python",
   "name": "python3"
  },
  "language_info": {
   "codemirror_mode": {
    "name": "ipython",
    "version": 3
   },
   "file_extension": ".py",
   "mimetype": "text/x-python",
   "name": "python",
   "nbconvert_exporter": "python",
   "pygments_lexer": "ipython3",
   "version": "3.8.8"
  }
 },
 "nbformat": 4,
 "nbformat_minor": 5
}
